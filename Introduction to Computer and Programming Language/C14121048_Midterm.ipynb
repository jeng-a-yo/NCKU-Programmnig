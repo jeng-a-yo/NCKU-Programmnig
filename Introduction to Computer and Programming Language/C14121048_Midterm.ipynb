{
  "cells": [
    {
      "cell_type": "markdown",
      "metadata": {
        "id": "GZO7V1F3jXHv"
      },
      "source": [
        "# 計算機概論與程式語言期中考 2024\n",
        "# Introduction to Computer and Programming Language Midterm Exam 2024"
      ]
    },
    {
      "cell_type": "markdown",
      "metadata": {
        "id": "leP2TdEYrlsv"
      },
      "source": [
        "## Rules\n",
        "- Time: 4/24(Wed.) 15:10 ~ 17:00 (last submit time 17:10)\n",
        "- Students are not allowed to use any GenerativeAI tools to do the exam.\n",
        "- Students are not allowed to search for the answers or surf the Net during exams.\n",
        "- If you have any questions, feel free to raise your hand during the exam.\n",
        "\n",
        "We have provided a template code for you to solve the problem.\n",
        "\n",
        "It's ok if you want to design your own code as long as it can match the answer.\n",
        "\n",
        "Last but not least, write as many comments as you can, we will give you partial scores, even though you don't get the answer right."
      ]
    },
    {
      "cell_type": "markdown",
      "metadata": {
        "id": "V_IhNvOTjpPR"
      },
      "source": [
        "## Questions\n",
        "**Total 7 question (135%)** ➡ Some may be hard, you can skip them first.\n",
        "1. Sum of $n, n^2, n^3$ (20%)\n",
        "2. Factorial (20%) + Bonus(5%)\n",
        "3. Find Prime (20%)\n",
        "4. Matrix Multiplication (25%)\n",
        "5. Contains Duplicate (15%)\n",
        "6. Missing Number (15%)\n",
        "7. File I/O Management (15%)"
      ]
    },
    {
      "cell_type": "markdown",
      "metadata": {
        "id": "cDkSl72NkDjB"
      },
      "source": [
        "## 1. Sum of $n, n^2, n^3$ (20%)"
      ]
    },
    {
      "cell_type": "markdown",
      "metadata": {
        "id": "8yZvxcObkGnl"
      },
      "source": [
        "### Problem:\n",
        "Write a program that takes two positive integer inputs(n, p) from the user and calculates the sum of integers from 1 to the given number with respect to the given power.\n",
        "\n",
        "n: must be a positive integer\n",
        "\n",
        "p: 1, 2, 3"
      ]
    },
    {
      "cell_type": "markdown",
      "metadata": {
        "id": "mzOtezTbkk8Q"
      },
      "source": [
        "### Part 1: Using Formula (10%)\n",
        "Design a program that calculates and outputs the sum of integers from 1 to $n^p$ using the formula.\n",
        "\n",
        "![image](https://hackmd.io/_uploads/S1OWUyWZA.png)\n",
        "\n",
        "You are going to figure out the formula by yourself:\n",
        "\n",
        "![image](https://hackmd.io/_uploads/ryIdIkWbA.png)"
      ]
    },
    {
      "cell_type": "code",
      "execution_count": 47,
      "metadata": {
        "colab": {
          "base_uri": "https://localhost:8080/"
        },
        "id": "OE90zrk3jM-7",
        "outputId": "c54c8304-41fa-4ac9-f697-29665a15e326"
      },
      "outputs": [
        {
          "name": "stdout",
          "output_type": "stream",
          "text": [
            "Enter n: 10\n",
            "Enter p: 3\n",
            "The sum from 1 to 10 ^ 3 is 3025.0\n"
          ]
        }
      ],
      "source": [
        "n = int(input(\"Enter n: \"))\n",
        "p = int(input(\"Enter p: \"))\n",
        "res = 0\n",
        "\n",
        "if p == 1:\n",
        "    res = n * (n + 1) / 2\n",
        "elif p == 2:\n",
        "    res = n * (n + 1) * (2 * n + 1) / 6\n",
        "elif p == 3:\n",
        "    res = (n * (n + 1) / 2) ** 2\n",
        "\n",
        "print(\"The sum from 1 to\", n, \"^\", p, \"is\", res)"
      ]
    },
    {
      "cell_type": "markdown",
      "metadata": {
        "id": "k66YaKcwkcWA"
      },
      "source": [
        "### Part 2: Using Loop (10%)\n",
        "Design a program that calculates and outputs the sum of integers from 1 to $n^p$ using loops(choose anyone of them).\n",
        "\n",
        "You don't have to implement the two loops, just one is okay."
      ]
    },
    {
      "cell_type": "code",
      "execution_count": 3,
      "metadata": {
        "colab": {
          "base_uri": "https://localhost:8080/"
        },
        "id": "ZyLmM2EdkpCb",
        "outputId": "6d0400a7-3da5-4be9-eea6-07d2380b5271"
      },
      "outputs": [
        {
          "name": "stdout",
          "output_type": "stream",
          "text": [
            "Enter n: 8\n",
            "Enter p: 1\n",
            "The sum from 1 to 8 ^ 1 is 36\n"
          ]
        }
      ],
      "source": [
        "n = int(input(\"Enter n: \"))\n",
        "p = int(input(\"Enter p: \"))\n",
        "res = 0\n",
        "\n",
        "for k in range(1, n + 1):\n",
        "    res += k ** p\n",
        "\n",
        "print(\"The sum from 1 to\", n, \"^\", p, \"is\", res)"
      ]
    },
    {
      "cell_type": "code",
      "execution_count": 6,
      "metadata": {
        "colab": {
          "base_uri": "https://localhost:8080/"
        },
        "id": "KQ4k9i4tktzZ",
        "outputId": "b4b17675-76db-44e0-e791-1b880d2f2a71"
      },
      "outputs": [
        {
          "name": "stdout",
          "output_type": "stream",
          "text": [
            "Enter n: 8\n",
            "Enter p: 1\n",
            "The sum from 1 to 8 ^ 1 is 36\n"
          ]
        }
      ],
      "source": [
        "n = int(input(\"Enter n: \"))\n",
        "p = int(input(\"Enter p: \"))\n",
        "res = 0\n",
        "\n",
        "k = 1\n",
        "while k <= n:\n",
        "  res += k ** p\n",
        "  k += 1\n",
        "\n",
        "print(\"The sum from 1 to\", n, \"^\", p, \"is\", res)"
      ]
    },
    {
      "cell_type": "markdown",
      "metadata": {
        "id": "eCftPfphk12r"
      },
      "source": [
        "### Examples\n",
        "#### Exmaple 1:\n",
        "``` bash\n",
        "Enter n: 10\n",
        "Enter k: 1\n",
        "The sum from 1 to 10 ^ 1 is 55\n",
        "```\n",
        "#### Exmaple 2:\n",
        "```bash\n",
        "Enter n: 10\n",
        "Enter k: 2\n",
        "The sum from 1 to 10 ^ 2 is 385\n",
        "```\n",
        "#### Example 3:\n",
        "```bash!\n",
        "Enter n: 10\n",
        "Enter p: 3\n",
        "The sum from 1 to 10 ^ 3 is 3025\n",
        "```"
      ]
    },
    {
      "cell_type": "markdown",
      "metadata": {
        "id": "xrByS8iflVCk"
      },
      "source": [
        "## 2. Factorial (20%) + (5%)"
      ]
    },
    {
      "cell_type": "markdown",
      "metadata": {
        "id": "VQkTJUMRl7Bn"
      },
      "source": [
        "### Problem\n",
        "\n",
        "In mathematics, the factorial of a non-negative integer n, denoted as n!, is the product of all positive integers less than or equal to n.\n",
        "\n",
        "For example, 5!=5×4×3×2×1=120\n",
        "\n",
        "Your task is to design a program that calculates the factorial of a given non-negative integer n.\n",
        "\n",
        "Your program should take a non-negative integer n as input from the user and output the factorial n!.\n",
        "### Factorial Definition\n",
        "The factorial function of a positive integer $n$ is defined by the product of all positive integers not greater than n\n",
        "$n! = 1 \\cdot 2 \\cdot 3 \\cdot \\cdot \\cdot (n-2) \\cdot (n-1) \\cdot n$\n",
        "#### Factorial of zero\n",
        "$0! = 1$"
      ]
    },
    {
      "cell_type": "markdown",
      "metadata": {
        "id": "BhvC64hWl_hH"
      },
      "source": [
        "### Part 1: Use For Loop (10%)"
      ]
    },
    {
      "cell_type": "code",
      "execution_count": 7,
      "metadata": {
        "colab": {
          "base_uri": "https://localhost:8080/"
        },
        "id": "aRG4agLCmBDY",
        "outputId": "c37509f4-ce35-4e8b-85cb-4e5d766f0475"
      },
      "outputs": [
        {
          "name": "stdout",
          "output_type": "stream",
          "text": [
            "Enter a positive integer n: 6\n",
            "The factorial of  6 is: 720\n"
          ]
        }
      ],
      "source": [
        "n = int(input(\"Enter a positive integer n: \"))\n",
        "\n",
        "res = 1\n",
        "for i in range(2, n + 1):\n",
        "    res *= i\n",
        "print(\"The factorial of \", n, \"is:\", res)\n"
      ]
    },
    {
      "cell_type": "markdown",
      "metadata": {
        "id": "avABK9TPmElC"
      },
      "source": [
        "### Part 2: Use while Loop (10%)"
      ]
    },
    {
      "cell_type": "code",
      "execution_count": 9,
      "metadata": {
        "colab": {
          "base_uri": "https://localhost:8080/"
        },
        "id": "ZCz4gkj8mGKh",
        "outputId": "e3f7df58-1db4-4de2-d5bb-ae8d0275f9c3"
      },
      "outputs": [
        {
          "name": "stdout",
          "output_type": "stream",
          "text": [
            "Enter a positive integer n: 6\n",
            "The factorial of  6 is: 720\n"
          ]
        }
      ],
      "source": [
        "n = int(input(\"Enter a positive integer n: \"))\n",
        "temp = n\n",
        "res = 1\n",
        "while temp >= 1:\n",
        "    res *= temp\n",
        "    temp -= 1\n",
        "print(\"The factorial of \", n, \"is:\", res)"
      ]
    },
    {
      "cell_type": "markdown",
      "metadata": {
        "id": "9MMblTKdmIgx"
      },
      "source": [
        "### Bonus: Use Recursion (5%)\n",
        "The factorial formula can be formed in this equation: $n! = n \\cdot (n-1)!$\n",
        "\n",
        "Try break down the problem into sub problem by using recursion."
      ]
    },
    {
      "cell_type": "code",
      "execution_count": 46,
      "metadata": {
        "colab": {
          "base_uri": "https://localhost:8080/"
        },
        "id": "0RpmaLF5mKV6",
        "outputId": "92ce695c-7a7f-43d6-96d0-c5f943b23e26"
      },
      "outputs": [
        {
          "name": "stdout",
          "output_type": "stream",
          "text": [
            "Enter a positive integer n: 6\n",
            "The factorial of  6 is: 720\n"
          ]
        }
      ],
      "source": [
        "def factorial(n):\n",
        "    if n < 0:\n",
        "        return -1\n",
        "\n",
        "    if n == 0 or n == 1:\n",
        "        return 1\n",
        "\n",
        "    else:\n",
        "        return n * factorial(n-1)\n",
        "\n",
        "n = int(input(\"Enter a positive integer n: \"))\n",
        "res = factorial(n)\n",
        "print(\"The factorial of \", n, \"is:\", res)"
      ]
    },
    {
      "cell_type": "markdown",
      "metadata": {
        "id": "IpuEIHcYmOap"
      },
      "source": [
        "### Examples (We won't test 0 as input)\n",
        "#### Example 1\n",
        "```bash\n",
        "Enter a positive integer n: 5\n",
        "The factorial of 5 is: 120\n",
        "```\n",
        "#### Example 2\n",
        "```bash\n",
        "Enter a positive integer n: 2\n",
        "The factorial of 2 is: 2\n",
        "```"
      ]
    },
    {
      "cell_type": "markdown",
      "metadata": {
        "id": "FawZOBn0mTfI"
      },
      "source": [
        "## 3. Find Prime (20%)"
      ]
    },
    {
      "cell_type": "markdown",
      "metadata": {
        "id": "3K0yNYvAmXNK"
      },
      "source": [
        "### Problem\n",
        "Write a program that takes a positive integer input $n$ from the user and checks if any number from $1$ to $n$ (inclusive) is a prime number.\n",
        "\n",
        "**The result should be a list of prime numbers**\n",
        "### Prime Number Definition\n",
        "A prime number is a natural number greater than 1 that has no positive divisors other than 1 and itself. In other words, a prime number is only divisible by 1 and itself without leaving a remainder."
      ]
    },
    {
      "cell_type": "markdown",
      "metadata": {
        "id": "MZcWuhrdmYTe"
      },
      "source": [
        "### Nested Loop(20%)\n",
        "Design a program that can find all the prime numbers from 1 to n using for or while loops.\n",
        "\n",
        "- Hint 1: You are expected to use nested loops in this task\n",
        "- Hint 2: You can use while and for loop at the same time"
      ]
    },
    {
      "cell_type": "code",
      "execution_count": 20,
      "metadata": {
        "colab": {
          "base_uri": "https://localhost:8080/"
        },
        "id": "kRl49XRTmaU6",
        "outputId": "da0a7fba-d4c0-413f-9596-c7d571d4037c"
      },
      "outputs": [
        {
          "name": "stdout",
          "output_type": "stream",
          "text": [
            "Enter a positive integer n: 10\n",
            "The prime numbers from 1 to 10 are: [2, 3, 5, 7]\n"
          ]
        }
      ],
      "source": [
        "n = int(input(\"Enter a positive integer n: \"))\n",
        "\n",
        "def isPrime(n):\n",
        "  if n <= 0:\n",
        "    return False\n",
        "  if n == 1:\n",
        "    return False\n",
        "  if n == 2:\n",
        "    return True\n",
        "\n",
        "  for i in range(2, int(n ** 0.5) + 1):\n",
        "    if n % i == 0:\n",
        "      return False\n",
        "  else:\n",
        "    return True\n",
        "\n",
        "print(\"The prime numbers from 1 to\", n, \"are:\", [i for i in range(2, n + 1) if isPrime(i)])"
      ]
    },
    {
      "cell_type": "markdown",
      "metadata": {
        "id": "0P6U5YsvmcQb"
      },
      "source": [
        "### Examples\n",
        "#### Example 1\n",
        "```bash!\n",
        "Enter a positive integer n: 10\n",
        "The prime numbers from 1 to 10 are: [2, 3, 5, 7]\n",
        "```\n",
        "#### Example 2\n",
        "```bash!\n",
        "Enter a positive integer n: 100\n",
        "The prime numbers from 1 to 100 are: [2, 3, 5, 7, 11, 13, 17, 19, 23, 29, 31, 37, 41, 43, 47, 53, 59, 61, 67, 71, 73, 79, 83, 89, 97]\n",
        "```"
      ]
    },
    {
      "cell_type": "markdown",
      "metadata": {
        "id": "EBMb5pjyme6l"
      },
      "source": [
        "## 4. Matrix Multiplication (25%)"
      ]
    },
    {
      "cell_type": "markdown",
      "metadata": {
        "id": "H04Zorv4mggk"
      },
      "source": [
        "### Problem\n",
        "Write a program that performs matrix multiplication for two given matrices.\n",
        "\n",
        "### Definition\n",
        "Matrix multiplication is a binary operation that produces a matrix from two matrices. Given two matrices $A$ and $B$ where $A$ has dimensions $m \\times n$ and $B$ has dimensions $n \\times p$, the resulting matrix $C$ will have dimensions $m \\times p$. The element $c_{ij}$ of matrix $C$ is the dot product of the $i$-th row of matrix $A$ and the $j$-th column of matrix $B$.\n",
        "\n",
        "### Input Format\n",
        "The matrices $A$ and $B$ are already provided as 2D lists:\n",
        "- matrix_A with dimensions $m \\times n$\n",
        "- matrix_B with dimensions $n \\times p$\n",
        "\n",
        "### Output Format\n",
        "- Print the resulting matrix $C$ after performing matrix multiplication of $A$ and $B$.\n"
      ]
    },
    {
      "cell_type": "markdown",
      "metadata": {
        "id": "wRS_i5AMmk4Z"
      },
      "source": [
        "### Part 1: Use Numpy (5%)"
      ]
    },
    {
      "cell_type": "code",
      "execution_count": 22,
      "metadata": {
        "colab": {
          "base_uri": "https://localhost:8080/"
        },
        "id": "MyC8dZFrmmM1",
        "outputId": "1ca4b60e-460d-45aa-96ed-cc1e4764f097"
      },
      "outputs": [
        {
          "name": "stdout",
          "output_type": "stream",
          "text": [
            "The result of the matrix multiplication is:\n",
            "[[ 58  64]\n",
            " [139 154]]\n"
          ]
        }
      ],
      "source": [
        "import numpy as np\n",
        "\n",
        "matrix_A = [[1, 2, 3], [4, 5, 6]]    # 2x3\n",
        "matrix_B = [[7, 8], [9, 10], [11, 12]]  # 3x2\n",
        "\n",
        "result = np.matrix(matrix_A) * np.matrix(matrix_B)\n",
        "\n",
        "print(\"The result of the matrix multiplication is:\")\n",
        "print(result)"
      ]
    },
    {
      "cell_type": "markdown",
      "metadata": {
        "id": "chvo215Rmpo4"
      },
      "source": [
        "### Part 2: Use Nested Loop (20%)\n",
        "- Hint 1: You may need to find out **m, n, p** first (the **len()** might help you)\n",
        "- Hint 2: You are expected to **use 3 loops** to solve this task!"
      ]
    },
    {
      "cell_type": "code",
      "execution_count": 45,
      "metadata": {
        "colab": {
          "base_uri": "https://localhost:8080/"
        },
        "id": "dzJHNKnEmqFN",
        "outputId": "c79b85ea-f8c1-444f-b160-cfe000e636c2"
      },
      "outputs": [
        {
          "name": "stdout",
          "output_type": "stream",
          "text": [
            "Enter m = 2\n",
            "Enter n = 3\n",
            "Enter p = 2\n",
            "The result of the matrix multiplication is:\n",
            "[[58, 64], [139, 154]]\n"
          ]
        }
      ],
      "source": [
        "matrix_A = [[1, 2, 3], [4, 5, 6]]    # 2x3\n",
        "matrix_B = [[7, 8], [9, 10], [11, 12]]  # 3x2\n",
        "\n",
        "# you may not directly write 2, 3, 2\n",
        "# since the m, n, p will dynamically change\n",
        "m = int(input(\"Enter m = \"))\n",
        "n = int(input(\"Enter n = \"))\n",
        "p = int(input(\"Enter p = \"))\n",
        "\n",
        "result = []\n",
        "\n",
        "for i in range(m):\n",
        "  temp = []\n",
        "  for j in range(p):\n",
        "    sum = 0\n",
        "    for k in range(n):\n",
        "      sum += matrix_A[i][k] * matrix_B[k][j]\n",
        "    temp.append(sum)\n",
        "  result.append(temp)\n",
        "\n",
        "print(\"The result of the matrix multiplication is:\")\n",
        "print(result)"
      ]
    },
    {
      "cell_type": "markdown",
      "metadata": {
        "id": "j6L16vWamtZO"
      },
      "source": [
        "### Examples\n",
        "#### Example 1\n",
        "- Input: Given Matrix A and Matrix B\n",
        "```bash!\n",
        "matrix_A = [[1, 2, 3], [4, 5, 6]]\n",
        "matrix_B = [[7, 8], [9, 10], [11, 12]]\n",
        "```\n",
        "- Output:\n",
        "```bash!\n",
        "The result of the matrix multiplication is:\n",
        "[[58, 64], [139, 154]]\n",
        "```\n",
        "\n",
        "#### Example 2\n",
        "- Input: Given Matrix A and Matrix B\n",
        "```bash!\n",
        "matrix_A = [[10, 20, 30, 40], [50, 60, 70, 80]]  # 2x4\n",
        "matrix_B = [[-1, -2, -3], [-4, -5, -6], [-7, -8, -9], [-10, -11, -12]]  # 4x3\n",
        "```\n",
        "- Output:\n",
        "```bash!\n",
        "The result of the matrix multiplication is:\n",
        "[[-700, -800, -900], [-1580, -1840, -2100]]\n",
        "```"
      ]
    },
    {
      "cell_type": "markdown",
      "metadata": {
        "id": "_qKrYsu8nCAf"
      },
      "source": [
        "## 5. Contains Duplicate (15%)"
      ]
    },
    {
      "cell_type": "markdown",
      "metadata": {
        "id": "EnncBjw3nFnq"
      },
      "source": [
        "### Problem\n",
        "Given an integer array `nums`, print `true` if any value appears at least twice in the array, and print `false` if every element is distinct.\n",
        "\n",
        "See examples for more detail."
      ]
    },
    {
      "cell_type": "code",
      "execution_count": 23,
      "metadata": {
        "colab": {
          "base_uri": "https://localhost:8080/"
        },
        "id": "IHychP2QnHjE",
        "outputId": "4cb5bd5a-c0ba-4f63-836b-e1f848f4cc90"
      },
      "outputs": [
        {
          "name": "stdout",
          "output_type": "stream",
          "text": [
            "true\n"
          ]
        }
      ],
      "source": [
        "nums = [1, 2, 3, 1]\n",
        "numsSet = set(nums)\n",
        "\n",
        "if len(nums) == numsSet:\n",
        "  print(\"false\")\n",
        "else:\n",
        "  print(\"true\")"
      ]
    },
    {
      "cell_type": "markdown",
      "metadata": {
        "id": "-vhe_eeInJXO"
      },
      "source": [
        "### Hint\n",
        "Some hints that may help you solve the problem (sort, set, dict)\n",
        "#### Hint 1\n",
        "How about sort the list first?\n",
        "If a sorted list contains duplicate number, then those duplicate numbers will be next to each other.\n",
        "How do you solve this problem by using a for loop?\n",
        "#### Hint 2\n",
        "In Mathematics, we know that a set consists of unique elements. How can you use this knowledge to solve the problem of detecting duplicates in an array?"
      ]
    },
    {
      "cell_type": "markdown",
      "metadata": {
        "id": "RZb5wOxEnOgz"
      },
      "source": [
        "### Examples\n",
        "#### Example 1\n",
        "- Input: `nums = [1,2,3,1]`\n",
        "- Output: `true`\n",
        "- Explanation: 1 is duplicated\n",
        "\n",
        "#### Example 2\n",
        "- Input: `nums = [1,2,3,4]`\n",
        "- Output: `false`\n",
        "- Explanation: None of the numbers is a duplicate\n",
        "\n",
        "#### Example 3\n",
        "- Input: `nums = [1,1,1,3,3,4,3,2,4,2]`\n",
        "- Output: `true`\n",
        "- Explanation: 1, 2, 3, 4 are all duplicated"
      ]
    },
    {
      "cell_type": "markdown",
      "metadata": {
        "id": "AnmReMA5nV7e"
      },
      "source": [
        "## 6. Missing Number (15%)"
      ]
    },
    {
      "cell_type": "markdown",
      "metadata": {
        "id": "3uUR6H7vnXq6"
      },
      "source": [
        "### Problem\n",
        "Given an array `nums` containing `n` distinct numbers in the range `[0, n]`, print the only number in the range that is missing from the array.\n",
        "See examples for more detail."
      ]
    },
    {
      "cell_type": "code",
      "execution_count": 25,
      "metadata": {
        "colab": {
          "base_uri": "https://localhost:8080/"
        },
        "id": "kUOMFeHdnbcg",
        "outputId": "6c8dd440-c11a-4732-b9b7-13506dbddd80"
      },
      "outputs": [
        {
          "name": "stdout",
          "output_type": "stream",
          "text": [
            "8\n"
          ]
        }
      ],
      "source": [
        "nums = [9, 6, 4, 2, 3, 5, 7, 0, 1]\n",
        "n = len(nums)\n",
        "\n",
        "print(sum([i for i in range(1, n + 1)]) - sum(nums))"
      ]
    },
    {
      "cell_type": "markdown",
      "metadata": {
        "id": "j6ayyXSlndPp"
      },
      "source": [
        "### Hint\n",
        "#### Hint 1\n",
        "Given a list with n length, you may find sort() and range() helpful to solve this question.\n",
        "#### Hint 2\n",
        "- If it's a normal list from 0 to n, what's the normal summation of this list?\n",
        "- And if a list is not normal what is the summation of this list?\n",
        "- What's the differences between them?"
      ]
    },
    {
      "cell_type": "markdown",
      "metadata": {
        "id": "dOWHVFz0n-IS"
      },
      "source": [
        "### Example\n",
        "#### Example 1\n",
        "- Input: `nums = [3,0,1]`\n",
        "- Output: `2`\n",
        "- Explanation: n = 3 since there are 3 numbers, so all numbers are in the range [0,3]. 2 is the missing number in the range since it does not appear in nums.\n",
        "\n",
        "#### Example 2\n",
        "- Input: `nums = [0,1]`\n",
        "- Output: `2`\n",
        "- Explanation: n = 2 since there are 2 numbers, so all numbers are in the range [0,2]. 2 is the missing number in the range since it does not appear in nums.\n",
        "\n",
        "#### Example 3\n",
        "- Input: `nums = [9,6,4,2,3,5,7,0,1]`\n",
        "- Output: `8`\n",
        "- Explanation: n = 9 since there are 9 numbers, so all numbers are in the range [0,9]. 8 is the missing number in the range since it does not appear in nums."
      ]
    },
    {
      "cell_type": "markdown",
      "metadata": {
        "id": "V5jQpsR2oDgl"
      },
      "source": [
        "## 7. File I/O Management (15%)"
      ]
    },
    {
      "cell_type": "markdown",
      "metadata": {
        "id": "yzNkaOUGoFJs"
      },
      "source": [
        "### Problem\n",
        "Given a txt file, you need to design a program that generate a csv file from the given input txt file.\n",
        "\n",
        "**That is to say, read the input text file and then output a new csv file.**\n",
        "\n",
        "The input students.txt is as below format\n",
        "```bash!\n",
        "Name, Math, English\n",
        "Andy, 90, 80\n",
        "Bob, 85, 75\n",
        "Cindy, 88, 78\n",
        "...\n",
        "```"
      ]
    },
    {
      "cell_type": "markdown",
      "metadata": {
        "id": "AXf_VuekoKgJ"
      },
      "source": [
        "### Part 1. Simple File In and File Out(5%)"
      ]
    },
    {
      "cell_type": "code",
      "execution_count": 26,
      "metadata": {
        "id": "TE1mrNYNoMq3"
      },
      "outputs": [],
      "source": [
        "# template code\n",
        "with open('students.txt', 'r') as file:\n",
        "    students = file.read()\n",
        "\n",
        "\n",
        "with open('students.csv', 'w') as file:\n",
        "    for student in students:\n",
        "        file.write(student)"
      ]
    },
    {
      "cell_type": "markdown",
      "metadata": {
        "id": "etjqc31EoOzT"
      },
      "source": [
        "The output students.csv may be like this.\n",
        "```bash!\n",
        "Name, Math, English\n",
        "Andy, 90, 80\n",
        "Bob, 85, 75\n",
        "Cindy, 88, 78\n",
        "...\n",
        "```"
      ]
    },
    {
      "cell_type": "markdown",
      "metadata": {
        "id": "qpWouvqGoTBg"
      },
      "source": [
        "### Part 2. Do the score summation before writing to the file (10%)"
      ]
    },
    {
      "cell_type": "code",
      "execution_count": 40,
      "metadata": {
        "id": "f7UoWU8ZoVhp"
      },
      "outputs": [],
      "source": [
        "# template code\n",
        "with open('students.txt', 'r') as file:\n",
        "    students = file.read()\n",
        "\n",
        "\n",
        "students = [student.split(',') for student in students.split('\\n')]\n",
        "\n",
        "\n",
        "with open('students.csv', 'w') as file:\n",
        "    file.write(\"Name,Summation\\n\")\n",
        "    for i in range(1, len(students)):\n",
        "        score = int(students[i][1].replace(' ', '')) + int(students[i][2].replace(' ', ''))\n",
        "        file.write(f\"{students[i][0]},{score}\\n\")\n"
      ]
    },
    {
      "cell_type": "markdown",
      "metadata": {
        "id": "hxbY11kQoWHb"
      },
      "source": [
        "The output students.csv may be like this.\n",
        "```bash!\n",
        "Name,Summation\n",
        "Andy,170\n",
        "Bob,160\n",
        "Cindy,166\n",
        "...\n",
        "```"
      ]
    },
    {
      "cell_type": "markdown",
      "metadata": {
        "id": "VPOJGQ4XoZCa"
      },
      "source": [
        "## Upload to Moodle\n",
        "\n",
        "1. save your file with the filename as `studentID_midterm.ipynb`. (e.g., A1234567_midterm.ipynb.)\n",
        "2. Submit your file to Moodle."
      ]
    }
  ],
  "metadata": {
    "colab": {
      "provenance": []
    },
    "kernelspec": {
      "display_name": "Python 3",
      "name": "python3"
    },
    "language_info": {
      "name": "python"
    }
  },
  "nbformat": 4,
  "nbformat_minor": 0
}
