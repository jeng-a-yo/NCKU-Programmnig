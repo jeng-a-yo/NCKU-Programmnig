{
  "nbformat": 4,
  "nbformat_minor": 0,
  "metadata": {
    "colab": {
      "provenance": []
    },
    "kernelspec": {
      "name": "python3",
      "display_name": "Python 3"
    },
    "language_info": {
      "name": "python"
    }
  },
  "cells": [
    {
      "cell_type": "markdown",
      "source": [
        "# 計算機概論與程式語言期中考 2024\n",
        "# Introduction to Computer and Programming Language Midterm Exam 2024"
      ],
      "metadata": {
        "id": "GZO7V1F3jXHv"
      }
    },
    {
      "cell_type": "markdown",
      "source": [
        "## Rules\n",
        "- Time: 4/24(Wed.) 15:10 ~ 17:00 (last submit time 17:10)\n",
        "- Students are not allowed to use any GenerativeAI tools to do the exam.\n",
        "- Students are not allowed to search for the answers or surf the Net during exams.\n",
        "- If you have any questions, feel free to raise your hand during the exam.\n",
        "\n",
        "We have provided a template code for you to solve the problem.\n",
        "\n",
        "It's ok if you want to design your own code as long as it can match the answer.\n",
        "\n",
        "Last but not least, write as many comments as you can, we will give you partial scores, even though you don't get the answer right."
      ],
      "metadata": {
        "id": "leP2TdEYrlsv"
      }
    },
    {
      "cell_type": "markdown",
      "source": [
        "## Questions\n",
        "**Total 7 question (135%)** ➡ Some may be hard, you can skip them first.\n",
        "1. Sum of $n, n^2, n^3$ (20%)\n",
        "2. Factorial (20%) + Bonus(5%)\n",
        "3. Find Prime (20%)\n",
        "4. Matrix Multiplication (25%)\n",
        "5. Contains Duplicate (15%)\n",
        "6. Missing Number (15%)\n",
        "7. File I/O Management (15%)"
      ],
      "metadata": {
        "id": "V_IhNvOTjpPR"
      }
    },
    {
      "cell_type": "markdown",
      "source": [
        "## 1. Sum of $n, n^2, n^3$ (20%)"
      ],
      "metadata": {
        "id": "cDkSl72NkDjB"
      }
    },
    {
      "cell_type": "markdown",
      "source": [
        "### Problem:\n",
        "Write a program that takes two positive integer inputs(n, p) from the user and calculates the sum of integers from 1 to the given number with respect to the given power.\n",
        "\n",
        "n: must be a positive integer\n",
        "\n",
        "p: 1, 2, 3"
      ],
      "metadata": {
        "id": "8yZvxcObkGnl"
      }
    },
    {
      "cell_type": "markdown",
      "source": [
        "### Part 1: Using Formula (10%)\n",
        "Design a program that calculates and outputs the sum of integers from 1 to $n^p$ using the formula.\n",
        "\n",
        "![image](https://hackmd.io/_uploads/S1OWUyWZA.png)\n",
        "\n",
        "You are going to figure out the formula by yourself:\n",
        "\n",
        "![image](https://hackmd.io/_uploads/ryIdIkWbA.png)"
      ],
      "metadata": {
        "id": "mzOtezTbkk8Q"
      }
    },
    {
      "cell_type": "code",
      "execution_count": 47,
      "metadata": {
        "id": "OE90zrk3jM-7",
        "colab": {
          "base_uri": "https://localhost:8080/"
        },
        "outputId": "c54c8304-41fa-4ac9-f697-29665a15e326"
      },
      "outputs": [
        {
          "output_type": "stream",
          "name": "stdout",
          "text": [
            "Enter n: 10\n",
            "Enter p: 3\n",
            "The sum from 1 to 10 ^ 3 is 3025.0\n"
          ]
        }
      ],
      "source": [
        "# Template Code\n",
        "n = int(input(\"Enter n: \"))\n",
        "p = int(input(\"Enter p: \"))\n",
        "res = 0\n",
        "\n",
        "if p == 1:\n",
        "    res = n * (n + 1) / 2\n",
        "elif p == 2:\n",
        "    res = n * (n + 1) * (2 * n + 1) / 6\n",
        "elif p == 3:\n",
        "    res = (n * (n + 1) / 2) ** 2\n",
        "\n",
        "print(\"The sum from 1 to\", n, \"^\", p, \"is\", res)"
      ]
    },
    {
      "cell_type": "markdown",
      "source": [
        "### Part 2: Using Loop (10%)\n",
        "Design a program that calculates and outputs the sum of integers from 1 to $n^p$ using loops(choose anyone of them).\n",
        "\n",
        "You don't have to implement the two loops, just one is okay."
      ],
      "metadata": {
        "id": "k66YaKcwkcWA"
      }
    },
    {
      "cell_type": "code",
      "source": [
        "# For Loop Template Code\n",
        "n = int(input(\"Enter n: \"))\n",
        "p = int(input(\"Enter p: \"))\n",
        "res = 0\n",
        "\n",
        "for k in range(1, n + 1):\n",
        "    res += k ** p\n",
        "\n",
        "print(\"The sum from 1 to\", n, \"^\", p, \"is\", res)"
      ],
      "metadata": {
        "id": "ZyLmM2EdkpCb",
        "colab": {
          "base_uri": "https://localhost:8080/"
        },
        "outputId": "6d0400a7-3da5-4be9-eea6-07d2380b5271"
      },
      "execution_count": 3,
      "outputs": [
        {
          "output_type": "stream",
          "name": "stdout",
          "text": [
            "Enter n: 8\n",
            "Enter p: 1\n",
            "The sum from 1 to 8 ^ 1 is 36\n"
          ]
        }
      ]
    },
    {
      "cell_type": "code",
      "source": [
        "# While Loop Template Code\n",
        "n = int(input(\"Enter n: \"))\n",
        "p = int(input(\"Enter p: \"))\n",
        "res = 0\n",
        "\n",
        "k = 1\n",
        "while k <= n:\n",
        "  res += k ** p\n",
        "  k += 1\n",
        "\n",
        "print(\"The sum from 1 to\", n, \"^\", p, \"is\", res)"
      ],
      "metadata": {
        "id": "KQ4k9i4tktzZ",
        "colab": {
          "base_uri": "https://localhost:8080/"
        },
        "outputId": "b4b17675-76db-44e0-e791-1b880d2f2a71"
      },
      "execution_count": 6,
      "outputs": [
        {
          "output_type": "stream",
          "name": "stdout",
          "text": [
            "Enter n: 8\n",
            "Enter p: 1\n",
            "The sum from 1 to 8 ^ 1 is 36\n"
          ]
        }
      ]
    },
    {
      "cell_type": "markdown",
      "source": [
        "### Examples\n",
        "#### Exmaple 1:\n",
        "``` bash\n",
        "Enter n: 10\n",
        "Enter k: 1\n",
        "The sum from 1 to 10 ^ 1 is 55\n",
        "```\n",
        "#### Exmaple 2:\n",
        "```bash\n",
        "Enter n: 10\n",
        "Enter k: 2\n",
        "The sum from 1 to 10 ^ 2 is 385\n",
        "```\n",
        "#### Example 3:\n",
        "```bash!\n",
        "Enter n: 10\n",
        "Enter p: 3\n",
        "The sum from 1 to 10 ^ 3 is 3025\n",
        "```"
      ],
      "metadata": {
        "id": "eCftPfphk12r"
      }
    },
    {
      "cell_type": "markdown",
      "source": [
        "## 2. Factorial (20%) + (5%)"
      ],
      "metadata": {
        "id": "xrByS8iflVCk"
      }
    },
    {
      "cell_type": "markdown",
      "source": [
        "### Problem\n",
        "\n",
        "In mathematics, the factorial of a non-negative integer n, denoted as n!, is the product of all positive integers less than or equal to n.\n",
        "\n",
        "For example, 5!=5×4×3×2×1=120\n",
        "\n",
        "Your task is to design a program that calculates the factorial of a given non-negative integer n.\n",
        "\n",
        "Your program should take a non-negative integer n as input from the user and output the factorial n!.\n",
        "### Factorial Definition\n",
        "The factorial function of a positive integer $n$ is defined by the product of all positive integers not greater than n\n",
        "$n! = 1 \\cdot 2 \\cdot 3 \\cdot \\cdot \\cdot (n-2) \\cdot (n-1) \\cdot n$\n",
        "#### Factorial of zero\n",
        "$0! = 1$"
      ],
      "metadata": {
        "id": "VQkTJUMRl7Bn"
      }
    },
    {
      "cell_type": "markdown",
      "source": [
        "### Part 1: Use For Loop (10%)"
      ],
      "metadata": {
        "id": "BhvC64hWl_hH"
      }
    },
    {
      "cell_type": "code",
      "source": [
        "# Template Code\n",
        "n = int(input(\"Enter a positive integer n: \"))\n",
        "\n",
        "res = 1\n",
        "for i in range(2, n + 1):\n",
        "    res *= i\n",
        "print(\"The factorial of \", n, \"is:\", res)    # your code at here\n"
      ],
      "metadata": {
        "id": "aRG4agLCmBDY",
        "colab": {
          "base_uri": "https://localhost:8080/"
        },
        "outputId": "c37509f4-ce35-4e8b-85cb-4e5d766f0475"
      },
      "execution_count": 7,
      "outputs": [
        {
          "output_type": "stream",
          "name": "stdout",
          "text": [
            "Enter a positive integer n: 6\n",
            "The factorial of  6 is: 720\n"
          ]
        }
      ]
    },
    {
      "cell_type": "markdown",
      "source": [
        "### Part 2: Use while Loop (10%)"
      ],
      "metadata": {
        "id": "avABK9TPmElC"
      }
    },
    {
      "cell_type": "code",
      "source": [
        "# Template Code\n",
        "n = int(input(\"Enter a positive integer n: \"))\n",
        "temp = n\n",
        "res = 1\n",
        "while temp >= 1:\n",
        "    res *= temp\n",
        "    temp -= 1\n",
        "print(\"The factorial of \", n, \"is:\", res)    # your code at here"
      ],
      "metadata": {
        "id": "ZCz4gkj8mGKh",
        "colab": {
          "base_uri": "https://localhost:8080/"
        },
        "outputId": "e3f7df58-1db4-4de2-d5bb-ae8d0275f9c3"
      },
      "execution_count": 9,
      "outputs": [
        {
          "output_type": "stream",
          "name": "stdout",
          "text": [
            "Enter a positive integer n: 6\n",
            "The factorial of  6 is: 720\n"
          ]
        }
      ]
    },
    {
      "cell_type": "markdown",
      "source": [
        "### Bonus: Use Recursion (5%)\n",
        "The factorial formula can be formed in this equation: $n! = n \\cdot (n-1)!$\n",
        "\n",
        "Try break down the problem into sub problem by using recursion."
      ],
      "metadata": {
        "id": "9MMblTKdmIgx"
      }
    },
    {
      "cell_type": "code",
      "source": [
        "# Template Code\n",
        "def factorial(n):\n",
        "    if n == 0:\n",
        "        return 1\n",
        "    if n == 1:\n",
        "        return 1\n",
        "    else:\n",
        "        return n * factorial(n-1)\n",
        "\n",
        "n = int(input(\"Enter a positive integer n: \"))\n",
        "res = factorial(n)\n",
        "print(\"The factorial of \", n, \"is:\", res)    # your code at here"
      ],
      "metadata": {
        "id": "0RpmaLF5mKV6",
        "colab": {
          "base_uri": "https://localhost:8080/"
        },
        "outputId": "92ce695c-7a7f-43d6-96d0-c5f943b23e26"
      },
      "execution_count": 46,
      "outputs": [
        {
          "output_type": "stream",
          "name": "stdout",
          "text": [
            "Enter a positive integer n: 6\n",
            "The factorial of  6 is: 720\n"
          ]
        }
      ]
    },
    {
      "cell_type": "markdown",
      "source": [
        "### Examples (We won't test 0 as input)\n",
        "#### Example 1\n",
        "```bash\n",
        "Enter a positive integer n: 5\n",
        "The factorial of 5 is: 120\n",
        "```\n",
        "#### Example 2\n",
        "```bash\n",
        "Enter a positive integer n: 2\n",
        "The factorial of 2 is: 2\n",
        "```"
      ],
      "metadata": {
        "id": "IpuEIHcYmOap"
      }
    },
    {
      "cell_type": "markdown",
      "source": [
        "## 3. Find Prime (20%)"
      ],
      "metadata": {
        "id": "FawZOBn0mTfI"
      }
    },
    {
      "cell_type": "markdown",
      "source": [
        "### Problem\n",
        "Write a program that takes a positive integer input $n$ from the user and checks if any number from $1$ to $n$ (inclusive) is a prime number.\n",
        "\n",
        "**The result should be a list of prime numbers**\n",
        "### Prime Number Definition\n",
        "A prime number is a natural number greater than 1 that has no positive divisors other than 1 and itself. In other words, a prime number is only divisible by 1 and itself without leaving a remainder."
      ],
      "metadata": {
        "id": "3K0yNYvAmXNK"
      }
    },
    {
      "cell_type": "markdown",
      "source": [
        "### Nested Loop(20%)\n",
        "Design a program that can find all the prime numbers from 1 to n using for or while loops.\n",
        "\n",
        "- Hint 1: You are expected to use nested loops in this task\n",
        "- Hint 2: You can use while and for loop at the same time"
      ],
      "metadata": {
        "id": "MZcWuhrdmYTe"
      }
    },
    {
      "cell_type": "code",
      "source": [
        "# Template Code\n",
        "n = int(input(\"Enter a positive integer n: \"))\n",
        "\n",
        "def isPrime(n):\n",
        "  if n<= 0:\n",
        "    return False\n",
        "  if n == 1:\n",
        "    return False\n",
        "  if n == 2:\n",
        "    return True\n",
        "\n",
        "  for i in range(2, int(n ** 0.5) + 1):\n",
        "    if n % i == 0:\n",
        "      return False\n",
        "  else:\n",
        "    return True\n",
        "\n",
        "print(\"The prime numbers from 1 to\", n, \"are:\", [i for i in range(2, n + 1) if isPrime(i)])"
      ],
      "metadata": {
        "id": "kRl49XRTmaU6",
        "colab": {
          "base_uri": "https://localhost:8080/"
        },
        "outputId": "da0a7fba-d4c0-413f-9596-c7d571d4037c"
      },
      "execution_count": 20,
      "outputs": [
        {
          "output_type": "stream",
          "name": "stdout",
          "text": [
            "Enter a positive integer n: 10\n",
            "The prime numbers from 1 to 10 are: [2, 3, 5, 7]\n"
          ]
        }
      ]
    },
    {
      "cell_type": "markdown",
      "source": [
        "### Examples\n",
        "#### Example 1\n",
        "```bash!\n",
        "Enter a positive integer n: 10\n",
        "The prime numbers from 1 to 10 are: [2, 3, 5, 7]\n",
        "```\n",
        "#### Example 2\n",
        "```bash!\n",
        "Enter a positive integer n: 100\n",
        "The prime numbers from 1 to 100 are: [2, 3, 5, 7, 11, 13, 17, 19, 23, 29, 31, 37, 41, 43, 47, 53, 59, 61, 67, 71, 73, 79, 83, 89, 97]\n",
        "```"
      ],
      "metadata": {
        "id": "0P6U5YsvmcQb"
      }
    },
    {
      "cell_type": "markdown",
      "source": [
        "## 4. Matrix Multiplication (25%)"
      ],
      "metadata": {
        "id": "EBMb5pjyme6l"
      }
    },
    {
      "cell_type": "markdown",
      "source": [
        "### Problem\n",
        "Write a program that performs matrix multiplication for two given matrices.\n",
        "\n",
        "### Definition\n",
        "Matrix multiplication is a binary operation that produces a matrix from two matrices. Given two matrices $A$ and $B$ where $A$ has dimensions $m \\times n$ and $B$ has dimensions $n \\times p$, the resulting matrix $C$ will have dimensions $m \\times p$. The element $c_{ij}$ of matrix $C$ is the dot product of the $i$-th row of matrix $A$ and the $j$-th column of matrix $B$.\n",
        "\n",
        "### Input Format\n",
        "The matrices $A$ and $B$ are already provided as 2D lists:\n",
        "- matrix_A with dimensions $m \\times n$\n",
        "- matrix_B with dimensions $n \\times p$\n",
        "\n",
        "### Output Format\n",
        "- Print the resulting matrix $C$ after performing matrix multiplication of $A$ and $B$.\n"
      ],
      "metadata": {
        "id": "H04Zorv4mggk"
      }
    },
    {
      "cell_type": "markdown",
      "source": [
        "### Part 1: Use Numpy (5%)"
      ],
      "metadata": {
        "id": "wRS_i5AMmk4Z"
      }
    },
    {
      "cell_type": "code",
      "source": [
        "# template code\n",
        "import numpy as np\n",
        "\n",
        "matrix_A = [[1, 2, 3], [4, 5, 6]]    # 2x3\n",
        "matrix_B = [[7, 8], [9, 10], [11, 12]]  # 3x2\n",
        "\n",
        "result = np.matrix(matrix_A) * np.matrix(matrix_B)\n",
        "\n",
        "print(\"The result of the matrix multiplication is:\")\n",
        "print(result)"
      ],
      "metadata": {
        "id": "MyC8dZFrmmM1",
        "colab": {
          "base_uri": "https://localhost:8080/"
        },
        "outputId": "1ca4b60e-460d-45aa-96ed-cc1e4764f097"
      },
      "execution_count": 22,
      "outputs": [
        {
          "output_type": "stream",
          "name": "stdout",
          "text": [
            "The result of the matrix multiplication is:\n",
            "[[ 58  64]\n",
            " [139 154]]\n"
          ]
        }
      ]
    },
    {
      "cell_type": "markdown",
      "source": [
        "### Part 2: Use Nested Loop (20%)\n",
        "- Hint 1: You may need to find out **m, n, p** first (the **len()** might help you)\n",
        "- Hint 2: You are expected to **use 3 loops** to solve this task!"
      ],
      "metadata": {
        "id": "chvo215Rmpo4"
      }
    },
    {
      "cell_type": "code",
      "source": [
        "matrix_A = [[1, 2, 3], [4, 5, 6]]    # 2x3\n",
        "matrix_B = [[7, 8], [9, 10], [11, 12]]  # 3x2\n",
        "\n",
        "# you may not directly write 2, 3, 2\n",
        "# since the m, n, p will dynamically change\n",
        "m = int(input(\"Enter m = \"))\n",
        "n = int(input(\"Enter n = \"))\n",
        "p = int(input(\"Enter p = \"))\n",
        "\n",
        "result = []\n",
        "\n",
        "for i in range(m):\n",
        "  temp = []\n",
        "  for j in range(p):\n",
        "    sum = 0\n",
        "    for k in range(n):\n",
        "      sum += matrix_A[i][k] * matrix_B[k][j]\n",
        "    temp.append(sum)\n",
        "  result.append(temp)\n",
        "\n",
        "print(\"The result of the matrix multiplication is:\")\n",
        "print(result)"
      ],
      "metadata": {
        "id": "dzJHNKnEmqFN",
        "colab": {
          "base_uri": "https://localhost:8080/"
        },
        "outputId": "c79b85ea-f8c1-444f-b160-cfe000e636c2"
      },
      "execution_count": 45,
      "outputs": [
        {
          "output_type": "stream",
          "name": "stdout",
          "text": [
            "Enter m = 2\n",
            "Enter n = 3\n",
            "Enter p = 2\n",
            "The result of the matrix multiplication is:\n",
            "[[58, 64], [139, 154]]\n"
          ]
        }
      ]
    },
    {
      "cell_type": "markdown",
      "source": [
        "### Examples\n",
        "#### Example 1\n",
        "- Input: Given Matrix A and Matrix B\n",
        "```bash!\n",
        "matrix_A = [[1, 2, 3], [4, 5, 6]]\n",
        "matrix_B = [[7, 8], [9, 10], [11, 12]]\n",
        "```\n",
        "- Output:\n",
        "```bash!\n",
        "The result of the matrix multiplication is:\n",
        "[[58, 64], [139, 154]]\n",
        "```\n",
        "\n",
        "#### Example 2\n",
        "- Input: Given Matrix A and Matrix B\n",
        "```bash!\n",
        "matrix_A = [[10, 20, 30, 40], [50, 60, 70, 80]]  # 2x4\n",
        "matrix_B = [[-1, -2, -3], [-4, -5, -6], [-7, -8, -9], [-10, -11, -12]]  # 4x3\n",
        "```\n",
        "- Output:\n",
        "```bash!\n",
        "The result of the matrix multiplication is:\n",
        "[[-700, -800, -900], [-1580, -1840, -2100]]\n",
        "```"
      ],
      "metadata": {
        "id": "j6L16vWamtZO"
      }
    },
    {
      "cell_type": "markdown",
      "source": [
        "## 5. Contains Duplicate (15%)"
      ],
      "metadata": {
        "id": "_qKrYsu8nCAf"
      }
    },
    {
      "cell_type": "markdown",
      "source": [
        "### Problem\n",
        "Given an integer array `nums`, print `true` if any value appears at least twice in the array, and print `false` if every element is distinct.\n",
        "\n",
        "See examples for more detail."
      ],
      "metadata": {
        "id": "EnncBjw3nFnq"
      }
    },
    {
      "cell_type": "code",
      "source": [
        "nums = [1, 2, 3, 1]\n",
        "numsSet = list(set(nums))\n",
        "\n",
        "if len(nums) == numsSet:\n",
        "  print(\"false\")\n",
        "else:\n",
        "  print(\"true\")"
      ],
      "metadata": {
        "id": "IHychP2QnHjE",
        "colab": {
          "base_uri": "https://localhost:8080/"
        },
        "outputId": "4cb5bd5a-c0ba-4f63-836b-e1f848f4cc90"
      },
      "execution_count": 23,
      "outputs": [
        {
          "output_type": "stream",
          "name": "stdout",
          "text": [
            "true\n"
          ]
        }
      ]
    },
    {
      "cell_type": "markdown",
      "source": [
        "### Hint\n",
        "Some hints that may help you solve the problem (sort, set, dict)\n",
        "#### Hint 1\n",
        "How about sort the list first?\n",
        "If a sorted list contains duplicate number, then those duplicate numbers will be next to each other.\n",
        "How do you solve this problem by using a for loop?\n",
        "#### Hint 2\n",
        "In Mathematics, we know that a set consists of unique elements. How can you use this knowledge to solve the problem of detecting duplicates in an array?"
      ],
      "metadata": {
        "id": "-vhe_eeInJXO"
      }
    },
    {
      "cell_type": "markdown",
      "source": [
        "### Examples\n",
        "#### Example 1\n",
        "- Input: `nums = [1,2,3,1]`\n",
        "- Output: `true`\n",
        "- Explanation: 1 is duplicated\n",
        "\n",
        "#### Example 2\n",
        "- Input: `nums = [1,2,3,4]`\n",
        "- Output: `false`\n",
        "- Explanation: None of the numbers is a duplicate\n",
        "\n",
        "#### Example 3\n",
        "- Input: `nums = [1,1,1,3,3,4,3,2,4,2]`\n",
        "- Output: `true`\n",
        "- Explanation: 1, 2, 3, 4 are all duplicated"
      ],
      "metadata": {
        "id": "RZb5wOxEnOgz"
      }
    },
    {
      "cell_type": "markdown",
      "source": [
        "## 6. Missing Number (15%)"
      ],
      "metadata": {
        "id": "AnmReMA5nV7e"
      }
    },
    {
      "cell_type": "markdown",
      "source": [
        "### Problem\n",
        "Given an array `nums` containing `n` distinct numbers in the range `[0, n]`, print the only number in the range that is missing from the array.\n",
        "See examples for more detail."
      ],
      "metadata": {
        "id": "3uUR6H7vnXq6"
      }
    },
    {
      "cell_type": "code",
      "source": [
        "nums = [9,6,4,2,3,5,7,0,1]    # Test input\n",
        "n = len(nums)\n",
        "\n",
        "numsSum = sum([i for i in range(1, n + 1)])\n",
        "print(numsSum - sum(nums))"
      ],
      "metadata": {
        "id": "kUOMFeHdnbcg",
        "colab": {
          "base_uri": "https://localhost:8080/"
        },
        "outputId": "6c8dd440-c11a-4732-b9b7-13506dbddd80"
      },
      "execution_count": 25,
      "outputs": [
        {
          "output_type": "stream",
          "name": "stdout",
          "text": [
            "8\n"
          ]
        }
      ]
    },
    {
      "cell_type": "markdown",
      "source": [
        "### Hint\n",
        "#### Hint 1\n",
        "Given a list with n length, you may find sort() and range() helpful to solve this question.\n",
        "#### Hint 2\n",
        "- If it's a normal list from 0 to n, what's the normal summation of this list?\n",
        "- And if a list is not normal what is the summation of this list?\n",
        "- What's the differences between them?"
      ],
      "metadata": {
        "id": "j6ayyXSlndPp"
      }
    },
    {
      "cell_type": "markdown",
      "source": [
        "### Example\n",
        "#### Example 1\n",
        "- Input: `nums = [3,0,1]`\n",
        "- Output: `2`\n",
        "- Explanation: n = 3 since there are 3 numbers, so all numbers are in the range [0,3]. 2 is the missing number in the range since it does not appear in nums.\n",
        "\n",
        "#### Example 2\n",
        "- Input: `nums = [0,1]`\n",
        "- Output: `2`\n",
        "- Explanation: n = 2 since there are 2 numbers, so all numbers are in the range [0,2]. 2 is the missing number in the range since it does not appear in nums.\n",
        "\n",
        "#### Example 3\n",
        "- Input: `nums = [9,6,4,2,3,5,7,0,1]`\n",
        "- Output: `8`\n",
        "- Explanation: n = 9 since there are 9 numbers, so all numbers are in the range [0,9]. 8 is the missing number in the range since it does not appear in nums."
      ],
      "metadata": {
        "id": "dOWHVFz0n-IS"
      }
    },
    {
      "cell_type": "markdown",
      "source": [
        "## 7. File I/O Management (15%)"
      ],
      "metadata": {
        "id": "V5jQpsR2oDgl"
      }
    },
    {
      "cell_type": "markdown",
      "source": [
        "### Problem\n",
        "Given a txt file, you need to design a program that generate a csv file from the given input txt file.\n",
        "\n",
        "**That is to say, read the input text file and then output a new csv file.**\n",
        "\n",
        "The input students.txt is as below format\n",
        "```bash!\n",
        "Name, Math, English\n",
        "Andy, 90, 80\n",
        "Bob, 85, 75\n",
        "Cindy, 88, 78\n",
        "...\n",
        "```"
      ],
      "metadata": {
        "id": "yzNkaOUGoFJs"
      }
    },
    {
      "cell_type": "markdown",
      "source": [
        "### Part 1. Simple File In and File Out(5%)"
      ],
      "metadata": {
        "id": "AXf_VuekoKgJ"
      }
    },
    {
      "cell_type": "code",
      "source": [
        "# template code\n",
        "with open('students.txt', 'r') as file:\n",
        "    students = file.read()\n",
        "\n",
        "\n",
        "with open('students.csv', 'w') as file:\n",
        "    for student in students:\n",
        "        file.write(student)"
      ],
      "metadata": {
        "id": "TE1mrNYNoMq3"
      },
      "execution_count": 26,
      "outputs": []
    },
    {
      "cell_type": "markdown",
      "source": [
        "The output students.csv may be like this.\n",
        "```bash!\n",
        "Name, Math, English\n",
        "Andy, 90, 80\n",
        "Bob, 85, 75\n",
        "Cindy, 88, 78\n",
        "...\n",
        "```"
      ],
      "metadata": {
        "id": "etjqc31EoOzT"
      }
    },
    {
      "cell_type": "markdown",
      "source": [
        "### Part 2. Do the score summation before writing to the file (10%)"
      ],
      "metadata": {
        "id": "qpWouvqGoTBg"
      }
    },
    {
      "cell_type": "code",
      "source": [
        "# template code\n",
        "with open('students.txt', 'r') as file:\n",
        "    students = file.read()\n",
        "\n",
        "# you may need to do some preprocess first\n",
        "students = [student.split(',') for student in students.split('\\n')]\n",
        "\n",
        "\n",
        "with open('students.csv', 'w') as file:\n",
        "    file.write(\"Name,Summation\\n\")\n",
        "    for i in range(1, len(students)):\n",
        "      score = int(students[i][1].replace(' ', '')) + int(students[i][2].replace(' ', ''))\n",
        "      file.write(f\"{students[i][0]},{score}\\n\")\n"
      ],
      "metadata": {
        "id": "f7UoWU8ZoVhp"
      },
      "execution_count": 40,
      "outputs": []
    },
    {
      "cell_type": "markdown",
      "source": [
        "The output students.csv may be like this.\n",
        "```bash!\n",
        "Name,Summation\n",
        "Andy,170\n",
        "Bob,160\n",
        "Cindy,166\n",
        "...\n",
        "```"
      ],
      "metadata": {
        "id": "hxbY11kQoWHb"
      }
    },
    {
      "cell_type": "markdown",
      "source": [
        "## Upload to Moodle\n",
        "\n",
        "1. save your file with the filename as `studentID_midterm.ipynb`. (e.g., A1234567_midterm.ipynb.)\n",
        "2. Submit your file to Moodle."
      ],
      "metadata": {
        "id": "VPOJGQ4XoZCa"
      }
    }
  ]
}